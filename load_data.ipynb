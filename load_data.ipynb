{
 "cells": [
  {
   "cell_type": "markdown",
   "metadata": {},
   "source": [
    "### Подключение библиотек и скриптов"
   ]
  },
  {
   "cell_type": "code",
   "execution_count": 6,
   "metadata": {},
   "outputs": [],
   "source": [
    "import numpy as np\n",
    "import pandas as pd"
   ]
  },
  {
   "cell_type": "markdown",
   "metadata": {},
   "source": [
    "### Пути к директориям и файлам"
   ]
  },
  {
   "cell_type": "code",
   "execution_count": 16,
   "metadata": {},
   "outputs": [],
   "source": [
    "# input\n",
    "DATASET_PATH = 'data/training_project_data.csv'\n",
    "\n",
    "# output\n",
    "PREP_DATASET_PATH = 'data/training_project_data_prep.csv'"
   ]
  },
  {
   "cell_type": "markdown",
   "metadata": {},
   "source": [
    "### Загрузка данных\n"
   ]
  },
  {
   "cell_type": "code",
   "execution_count": 17,
   "metadata": {},
   "outputs": [
    {
     "data": {
      "text/html": [
       "<div>\n",
       "<style scoped>\n",
       "    .dataframe tbody tr th:only-of-type {\n",
       "        vertical-align: middle;\n",
       "    }\n",
       "\n",
       "    .dataframe tbody tr th {\n",
       "        vertical-align: top;\n",
       "    }\n",
       "\n",
       "    .dataframe thead th {\n",
       "        text-align: right;\n",
       "    }\n",
       "</style>\n",
       "<table border=\"1\" class=\"dataframe\">\n",
       "  <thead>\n",
       "    <tr style=\"text-align: right;\">\n",
       "      <th></th>\n",
       "      <th>LIMIT_BAL</th>\n",
       "      <th>SEX</th>\n",
       "      <th>EDUCATION</th>\n",
       "      <th>MARRIAGE</th>\n",
       "      <th>AGE</th>\n",
       "      <th>PAY_1</th>\n",
       "      <th>PAY_2</th>\n",
       "      <th>PAY_3</th>\n",
       "      <th>PAY_4</th>\n",
       "      <th>PAY_5</th>\n",
       "      <th>...</th>\n",
       "      <th>BILL_AMT4</th>\n",
       "      <th>BILL_AMT5</th>\n",
       "      <th>BILL_AMT6</th>\n",
       "      <th>PAY_AMT1</th>\n",
       "      <th>PAY_AMT2</th>\n",
       "      <th>PAY_AMT3</th>\n",
       "      <th>PAY_AMT4</th>\n",
       "      <th>PAY_AMT5</th>\n",
       "      <th>PAY_AMT6</th>\n",
       "      <th>NEXT_MONTH_DEFAULT</th>\n",
       "    </tr>\n",
       "  </thead>\n",
       "  <tbody>\n",
       "    <tr>\n",
       "      <th>0</th>\n",
       "      <td>150000.0</td>\n",
       "      <td>2</td>\n",
       "      <td>2</td>\n",
       "      <td>2</td>\n",
       "      <td>24</td>\n",
       "      <td>1</td>\n",
       "      <td>2</td>\n",
       "      <td>0</td>\n",
       "      <td>0</td>\n",
       "      <td>0</td>\n",
       "      <td>...</td>\n",
       "      <td>17853.0</td>\n",
       "      <td>34527.0</td>\n",
       "      <td>28277.0</td>\n",
       "      <td>0.0</td>\n",
       "      <td>2145.0</td>\n",
       "      <td>10000.0</td>\n",
       "      <td>22000.0</td>\n",
       "      <td>3000.0</td>\n",
       "      <td>5093.0</td>\n",
       "      <td>0</td>\n",
       "    </tr>\n",
       "    <tr>\n",
       "      <th>1</th>\n",
       "      <td>50000.0</td>\n",
       "      <td>2</td>\n",
       "      <td>3</td>\n",
       "      <td>1</td>\n",
       "      <td>46</td>\n",
       "      <td>3</td>\n",
       "      <td>3</td>\n",
       "      <td>3</td>\n",
       "      <td>3</td>\n",
       "      <td>2</td>\n",
       "      <td>...</td>\n",
       "      <td>30748.0</td>\n",
       "      <td>30162.0</td>\n",
       "      <td>30016.0</td>\n",
       "      <td>0.0</td>\n",
       "      <td>0.0</td>\n",
       "      <td>0.0</td>\n",
       "      <td>0.0</td>\n",
       "      <td>3100.0</td>\n",
       "      <td>798.0</td>\n",
       "      <td>1</td>\n",
       "    </tr>\n",
       "    <tr>\n",
       "      <th>2</th>\n",
       "      <td>150000.0</td>\n",
       "      <td>2</td>\n",
       "      <td>2</td>\n",
       "      <td>1</td>\n",
       "      <td>41</td>\n",
       "      <td>-1</td>\n",
       "      <td>-1</td>\n",
       "      <td>-1</td>\n",
       "      <td>-1</td>\n",
       "      <td>0</td>\n",
       "      <td>...</td>\n",
       "      <td>6784.0</td>\n",
       "      <td>6923.0</td>\n",
       "      <td>14116.0</td>\n",
       "      <td>0.0</td>\n",
       "      <td>0.0</td>\n",
       "      <td>6784.0</td>\n",
       "      <td>159.0</td>\n",
       "      <td>167.0</td>\n",
       "      <td>760.0</td>\n",
       "      <td>0</td>\n",
       "    </tr>\n",
       "    <tr>\n",
       "      <th>3</th>\n",
       "      <td>150000.0</td>\n",
       "      <td>2</td>\n",
       "      <td>2</td>\n",
       "      <td>2</td>\n",
       "      <td>35</td>\n",
       "      <td>0</td>\n",
       "      <td>0</td>\n",
       "      <td>0</td>\n",
       "      <td>0</td>\n",
       "      <td>0</td>\n",
       "      <td>...</td>\n",
       "      <td>55182.0</td>\n",
       "      <td>48983.0</td>\n",
       "      <td>50136.0</td>\n",
       "      <td>3500.0</td>\n",
       "      <td>2000.0</td>\n",
       "      <td>20000.0</td>\n",
       "      <td>2000.0</td>\n",
       "      <td>2000.0</td>\n",
       "      <td>2000.0</td>\n",
       "      <td>0</td>\n",
       "    </tr>\n",
       "    <tr>\n",
       "      <th>4</th>\n",
       "      <td>70000.0</td>\n",
       "      <td>2</td>\n",
       "      <td>1</td>\n",
       "      <td>1</td>\n",
       "      <td>35</td>\n",
       "      <td>1</td>\n",
       "      <td>2</td>\n",
       "      <td>2</td>\n",
       "      <td>2</td>\n",
       "      <td>2</td>\n",
       "      <td>...</td>\n",
       "      <td>47026.0</td>\n",
       "      <td>45971.0</td>\n",
       "      <td>47573.0</td>\n",
       "      <td>0.0</td>\n",
       "      <td>6500.0</td>\n",
       "      <td>1800.0</td>\n",
       "      <td>0.0</td>\n",
       "      <td>2500.0</td>\n",
       "      <td>2000.0</td>\n",
       "      <td>0</td>\n",
       "    </tr>\n",
       "  </tbody>\n",
       "</table>\n",
       "<p>5 rows × 24 columns</p>\n",
       "</div>"
      ],
      "text/plain": [
       "   LIMIT_BAL  SEX  EDUCATION  MARRIAGE  AGE  PAY_1  PAY_2  PAY_3  PAY_4  \\\n",
       "0   150000.0    2          2         2   24      1      2      0      0   \n",
       "1    50000.0    2          3         1   46      3      3      3      3   \n",
       "2   150000.0    2          2         1   41     -1     -1     -1     -1   \n",
       "3   150000.0    2          2         2   35      0      0      0      0   \n",
       "4    70000.0    2          1         1   35      1      2      2      2   \n",
       "\n",
       "   PAY_5  ...  BILL_AMT4  BILL_AMT5  BILL_AMT6  PAY_AMT1  PAY_AMT2  PAY_AMT3  \\\n",
       "0      0  ...    17853.0    34527.0    28277.0       0.0    2145.0   10000.0   \n",
       "1      2  ...    30748.0    30162.0    30016.0       0.0       0.0       0.0   \n",
       "2      0  ...     6784.0     6923.0    14116.0       0.0       0.0    6784.0   \n",
       "3      0  ...    55182.0    48983.0    50136.0    3500.0    2000.0   20000.0   \n",
       "4      2  ...    47026.0    45971.0    47573.0       0.0    6500.0    1800.0   \n",
       "\n",
       "   PAY_AMT4  PAY_AMT5  PAY_AMT6  NEXT_MONTH_DEFAULT  \n",
       "0   22000.0    3000.0    5093.0                   0  \n",
       "1       0.0    3100.0     798.0                   1  \n",
       "2     159.0     167.0     760.0                   0  \n",
       "3    2000.0    2000.0    2000.0                   0  \n",
       "4       0.0    2500.0    2000.0                   0  \n",
       "\n",
       "[5 rows x 24 columns]"
      ]
     },
     "execution_count": 17,
     "metadata": {},
     "output_type": "execute_result"
    }
   ],
   "source": [
    "df = pd.read_csv(DATASET_PATH)\n",
    "df.head()"
   ]
  },
  {
   "cell_type": "code",
   "execution_count": 18,
   "metadata": {},
   "outputs": [
    {
     "data": {
      "text/plain": [
       "(10000, 24)"
      ]
     },
     "execution_count": 18,
     "metadata": {},
     "output_type": "execute_result"
    }
   ],
   "source": [
    "df.shape"
   ]
  },
  {
   "cell_type": "code",
   "execution_count": 19,
   "metadata": {},
   "outputs": [
    {
     "data": {
      "text/plain": [
       "LIMIT_BAL             150000.0\n",
       "SEX                        2.0\n",
       "EDUCATION                  2.0\n",
       "MARRIAGE                   2.0\n",
       "AGE                       24.0\n",
       "PAY_1                      1.0\n",
       "PAY_2                      2.0\n",
       "PAY_3                      0.0\n",
       "PAY_4                      0.0\n",
       "PAY_5                      0.0\n",
       "PAY_6                      0.0\n",
       "BILL_AMT1              65542.0\n",
       "BILL_AMT2              28311.0\n",
       "BILL_AMT3              23978.0\n",
       "BILL_AMT4              17853.0\n",
       "BILL_AMT5              34527.0\n",
       "BILL_AMT6              28277.0\n",
       "PAY_AMT1                   0.0\n",
       "PAY_AMT2                2145.0\n",
       "PAY_AMT3               10000.0\n",
       "PAY_AMT4               22000.0\n",
       "PAY_AMT5                3000.0\n",
       "PAY_AMT6                5093.0\n",
       "NEXT_MONTH_DEFAULT         0.0\n",
       "Name: 0, dtype: float64"
      ]
     },
     "execution_count": 19,
     "metadata": {},
     "output_type": "execute_result"
    }
   ],
   "source": [
    "df.iloc[0]"
   ]
  },
  {
   "cell_type": "code",
   "execution_count": 20,
   "metadata": {},
   "outputs": [
    {
     "name": "stdout",
     "output_type": "stream",
     "text": [
      "<class 'pandas.core.frame.DataFrame'>\n",
      "RangeIndex: 10000 entries, 0 to 9999\n",
      "Data columns (total 24 columns):\n",
      " #   Column              Non-Null Count  Dtype  \n",
      "---  ------              --------------  -----  \n",
      " 0   LIMIT_BAL           10000 non-null  float64\n",
      " 1   SEX                 10000 non-null  int64  \n",
      " 2   EDUCATION           10000 non-null  int64  \n",
      " 3   MARRIAGE            10000 non-null  int64  \n",
      " 4   AGE                 10000 non-null  int64  \n",
      " 5   PAY_1               10000 non-null  int64  \n",
      " 6   PAY_2               10000 non-null  int64  \n",
      " 7   PAY_3               10000 non-null  int64  \n",
      " 8   PAY_4               10000 non-null  int64  \n",
      " 9   PAY_5               10000 non-null  int64  \n",
      " 10  PAY_6               10000 non-null  int64  \n",
      " 11  BILL_AMT1           10000 non-null  float64\n",
      " 12  BILL_AMT2           10000 non-null  float64\n",
      " 13  BILL_AMT3           10000 non-null  float64\n",
      " 14  BILL_AMT4           10000 non-null  float64\n",
      " 15  BILL_AMT5           10000 non-null  float64\n",
      " 16  BILL_AMT6           10000 non-null  float64\n",
      " 17  PAY_AMT1            10000 non-null  float64\n",
      " 18  PAY_AMT2            10000 non-null  float64\n",
      " 19  PAY_AMT3            10000 non-null  float64\n",
      " 20  PAY_AMT4            10000 non-null  float64\n",
      " 21  PAY_AMT5            10000 non-null  float64\n",
      " 22  PAY_AMT6            10000 non-null  float64\n",
      " 23  NEXT_MONTH_DEFAULT  10000 non-null  int64  \n",
      "dtypes: float64(13), int64(11)\n",
      "memory usage: 1.8 MB\n"
     ]
    }
   ],
   "source": [
    "df.info()"
   ]
  },
  {
   "cell_type": "code",
   "execution_count": 21,
   "metadata": {},
   "outputs": [],
   "source": [
    "for colname in ['SEX', 'EDUCATION', 'MARRIAGE', 'PAY_1', 'PAY_2', 'PAY_3', 'PAY_4', 'PAY_5', 'PAY_6']:\n",
    "    df[colname] = df[colname].astype(str)"
   ]
  },
  {
   "cell_type": "code",
   "execution_count": 22,
   "metadata": {},
   "outputs": [
    {
     "data": {
      "text/plain": [
       "LIMIT_BAL             float64\n",
       "SEX                    object\n",
       "EDUCATION              object\n",
       "MARRIAGE               object\n",
       "AGE                     int64\n",
       "PAY_1                  object\n",
       "PAY_2                  object\n",
       "PAY_3                  object\n",
       "PAY_4                  object\n",
       "PAY_5                  object\n",
       "PAY_6                  object\n",
       "BILL_AMT1             float64\n",
       "BILL_AMT2             float64\n",
       "BILL_AMT3             float64\n",
       "BILL_AMT4             float64\n",
       "BILL_AMT5             float64\n",
       "BILL_AMT6             float64\n",
       "PAY_AMT1              float64\n",
       "PAY_AMT2              float64\n",
       "PAY_AMT3              float64\n",
       "PAY_AMT4              float64\n",
       "PAY_AMT5              float64\n",
       "PAY_AMT6              float64\n",
       "NEXT_MONTH_DEFAULT      int64\n",
       "dtype: object"
      ]
     },
     "execution_count": 22,
     "metadata": {},
     "output_type": "execute_result"
    }
   ],
   "source": [
    "df.dtypes"
   ]
  },
  {
   "cell_type": "markdown",
   "metadata": {},
   "source": [
    "## Обзор данных¶"
   ]
  },
  {
   "cell_type": "markdown",
   "metadata": {},
   "source": [
    "### Обзор целевой переменной"
   ]
  },
  {
   "cell_type": "code",
   "execution_count": 23,
   "metadata": {},
   "outputs": [
    {
     "data": {
      "text/plain": [
       "0    7805\n",
       "1    2195\n",
       "Name: NEXT_MONTH_DEFAULT, dtype: int64"
      ]
     },
     "execution_count": 23,
     "metadata": {},
     "output_type": "execute_result"
    }
   ],
   "source": [
    "df['NEXT_MONTH_DEFAULT'].value_counts()"
   ]
  },
  {
   "cell_type": "markdown",
   "metadata": {},
   "source": [
    "### Обзор количественных признаков"
   ]
  },
  {
   "cell_type": "code",
   "execution_count": 24,
   "metadata": {},
   "outputs": [
    {
     "data": {
      "text/html": [
       "<div>\n",
       "<style scoped>\n",
       "    .dataframe tbody tr th:only-of-type {\n",
       "        vertical-align: middle;\n",
       "    }\n",
       "\n",
       "    .dataframe tbody tr th {\n",
       "        vertical-align: top;\n",
       "    }\n",
       "\n",
       "    .dataframe thead th {\n",
       "        text-align: right;\n",
       "    }\n",
       "</style>\n",
       "<table border=\"1\" class=\"dataframe\">\n",
       "  <thead>\n",
       "    <tr style=\"text-align: right;\">\n",
       "      <th></th>\n",
       "      <th>LIMIT_BAL</th>\n",
       "      <th>AGE</th>\n",
       "      <th>BILL_AMT1</th>\n",
       "      <th>BILL_AMT2</th>\n",
       "      <th>BILL_AMT3</th>\n",
       "      <th>BILL_AMT4</th>\n",
       "      <th>BILL_AMT5</th>\n",
       "      <th>BILL_AMT6</th>\n",
       "      <th>PAY_AMT1</th>\n",
       "      <th>PAY_AMT2</th>\n",
       "      <th>PAY_AMT3</th>\n",
       "      <th>PAY_AMT4</th>\n",
       "      <th>PAY_AMT5</th>\n",
       "      <th>PAY_AMT6</th>\n",
       "      <th>NEXT_MONTH_DEFAULT</th>\n",
       "    </tr>\n",
       "  </thead>\n",
       "  <tbody>\n",
       "    <tr>\n",
       "      <th>count</th>\n",
       "      <td>10000.000000</td>\n",
       "      <td>10000.00000</td>\n",
       "      <td>10000.000000</td>\n",
       "      <td>10000.000000</td>\n",
       "      <td>10000.00000</td>\n",
       "      <td>10000.000000</td>\n",
       "      <td>10000.000000</td>\n",
       "      <td>10000.000000</td>\n",
       "      <td>10000.00000</td>\n",
       "      <td>1.000000e+04</td>\n",
       "      <td>10000.000000</td>\n",
       "      <td>10000.000000</td>\n",
       "      <td>10000.000000</td>\n",
       "      <td>10000.000000</td>\n",
       "      <td>10000.000000</td>\n",
       "    </tr>\n",
       "    <tr>\n",
       "      <th>mean</th>\n",
       "      <td>168182.000000</td>\n",
       "      <td>35.39600</td>\n",
       "      <td>51490.560500</td>\n",
       "      <td>49298.972000</td>\n",
       "      <td>47292.40850</td>\n",
       "      <td>43605.665800</td>\n",
       "      <td>40347.829700</td>\n",
       "      <td>38996.784300</td>\n",
       "      <td>5511.82970</td>\n",
       "      <td>5.931217e+03</td>\n",
       "      <td>5385.050600</td>\n",
       "      <td>4585.585700</td>\n",
       "      <td>4712.134300</td>\n",
       "      <td>5055.019400</td>\n",
       "      <td>0.219500</td>\n",
       "    </tr>\n",
       "    <tr>\n",
       "      <th>std</th>\n",
       "      <td>130118.668771</td>\n",
       "      <td>9.19536</td>\n",
       "      <td>74906.094564</td>\n",
       "      <td>71808.952137</td>\n",
       "      <td>69398.13263</td>\n",
       "      <td>65062.788893</td>\n",
       "      <td>61044.676044</td>\n",
       "      <td>59682.999879</td>\n",
       "      <td>14748.85889</td>\n",
       "      <td>2.204220e+04</td>\n",
       "      <td>18527.041096</td>\n",
       "      <td>14066.147593</td>\n",
       "      <td>14080.847065</td>\n",
       "      <td>17359.210922</td>\n",
       "      <td>0.413929</td>\n",
       "    </tr>\n",
       "    <tr>\n",
       "      <th>min</th>\n",
       "      <td>10000.000000</td>\n",
       "      <td>21.00000</td>\n",
       "      <td>-11545.000000</td>\n",
       "      <td>-24704.000000</td>\n",
       "      <td>-157264.00000</td>\n",
       "      <td>-65167.000000</td>\n",
       "      <td>-23003.000000</td>\n",
       "      <td>-339603.000000</td>\n",
       "      <td>0.00000</td>\n",
       "      <td>0.000000e+00</td>\n",
       "      <td>0.000000</td>\n",
       "      <td>0.000000</td>\n",
       "      <td>0.000000</td>\n",
       "      <td>0.000000</td>\n",
       "      <td>0.000000</td>\n",
       "    </tr>\n",
       "    <tr>\n",
       "      <th>25%</th>\n",
       "      <td>50000.000000</td>\n",
       "      <td>28.00000</td>\n",
       "      <td>3388.000000</td>\n",
       "      <td>3016.500000</td>\n",
       "      <td>2561.75000</td>\n",
       "      <td>2400.000000</td>\n",
       "      <td>1703.250000</td>\n",
       "      <td>1300.750000</td>\n",
       "      <td>1000.00000</td>\n",
       "      <td>7.492500e+02</td>\n",
       "      <td>390.000000</td>\n",
       "      <td>277.250000</td>\n",
       "      <td>300.000000</td>\n",
       "      <td>150.750000</td>\n",
       "      <td>0.000000</td>\n",
       "    </tr>\n",
       "    <tr>\n",
       "      <th>50%</th>\n",
       "      <td>140000.000000</td>\n",
       "      <td>34.00000</td>\n",
       "      <td>22896.500000</td>\n",
       "      <td>21576.000000</td>\n",
       "      <td>20370.50000</td>\n",
       "      <td>19194.000000</td>\n",
       "      <td>18261.000000</td>\n",
       "      <td>17338.000000</td>\n",
       "      <td>2163.50000</td>\n",
       "      <td>2.001000e+03</td>\n",
       "      <td>1800.000000</td>\n",
       "      <td>1500.000000</td>\n",
       "      <td>1543.000000</td>\n",
       "      <td>1500.000000</td>\n",
       "      <td>0.000000</td>\n",
       "    </tr>\n",
       "    <tr>\n",
       "      <th>75%</th>\n",
       "      <td>240000.000000</td>\n",
       "      <td>41.00000</td>\n",
       "      <td>67834.750000</td>\n",
       "      <td>64243.500000</td>\n",
       "      <td>60783.25000</td>\n",
       "      <td>55731.250000</td>\n",
       "      <td>50491.000000</td>\n",
       "      <td>49696.000000</td>\n",
       "      <td>5001.00000</td>\n",
       "      <td>5.000000e+03</td>\n",
       "      <td>4651.500000</td>\n",
       "      <td>4014.250000</td>\n",
       "      <td>4100.000000</td>\n",
       "      <td>4000.000000</td>\n",
       "      <td>0.000000</td>\n",
       "    </tr>\n",
       "    <tr>\n",
       "      <th>max</th>\n",
       "      <td>1000000.000000</td>\n",
       "      <td>75.00000</td>\n",
       "      <td>964511.000000</td>\n",
       "      <td>983931.000000</td>\n",
       "      <td>689643.00000</td>\n",
       "      <td>891586.000000</td>\n",
       "      <td>927171.000000</td>\n",
       "      <td>961664.000000</td>\n",
       "      <td>493358.00000</td>\n",
       "      <td>1.227082e+06</td>\n",
       "      <td>896040.000000</td>\n",
       "      <td>432130.000000</td>\n",
       "      <td>417990.000000</td>\n",
       "      <td>422000.000000</td>\n",
       "      <td>1.000000</td>\n",
       "    </tr>\n",
       "  </tbody>\n",
       "</table>\n",
       "</div>"
      ],
      "text/plain": [
       "            LIMIT_BAL          AGE      BILL_AMT1      BILL_AMT2  \\\n",
       "count    10000.000000  10000.00000   10000.000000   10000.000000   \n",
       "mean    168182.000000     35.39600   51490.560500   49298.972000   \n",
       "std     130118.668771      9.19536   74906.094564   71808.952137   \n",
       "min      10000.000000     21.00000  -11545.000000  -24704.000000   \n",
       "25%      50000.000000     28.00000    3388.000000    3016.500000   \n",
       "50%     140000.000000     34.00000   22896.500000   21576.000000   \n",
       "75%     240000.000000     41.00000   67834.750000   64243.500000   \n",
       "max    1000000.000000     75.00000  964511.000000  983931.000000   \n",
       "\n",
       "          BILL_AMT3      BILL_AMT4      BILL_AMT5      BILL_AMT6  \\\n",
       "count   10000.00000   10000.000000   10000.000000   10000.000000   \n",
       "mean    47292.40850   43605.665800   40347.829700   38996.784300   \n",
       "std     69398.13263   65062.788893   61044.676044   59682.999879   \n",
       "min   -157264.00000  -65167.000000  -23003.000000 -339603.000000   \n",
       "25%      2561.75000    2400.000000    1703.250000    1300.750000   \n",
       "50%     20370.50000   19194.000000   18261.000000   17338.000000   \n",
       "75%     60783.25000   55731.250000   50491.000000   49696.000000   \n",
       "max    689643.00000  891586.000000  927171.000000  961664.000000   \n",
       "\n",
       "           PAY_AMT1      PAY_AMT2       PAY_AMT3       PAY_AMT4  \\\n",
       "count   10000.00000  1.000000e+04   10000.000000   10000.000000   \n",
       "mean     5511.82970  5.931217e+03    5385.050600    4585.585700   \n",
       "std     14748.85889  2.204220e+04   18527.041096   14066.147593   \n",
       "min         0.00000  0.000000e+00       0.000000       0.000000   \n",
       "25%      1000.00000  7.492500e+02     390.000000     277.250000   \n",
       "50%      2163.50000  2.001000e+03    1800.000000    1500.000000   \n",
       "75%      5001.00000  5.000000e+03    4651.500000    4014.250000   \n",
       "max    493358.00000  1.227082e+06  896040.000000  432130.000000   \n",
       "\n",
       "            PAY_AMT5       PAY_AMT6  NEXT_MONTH_DEFAULT  \n",
       "count   10000.000000   10000.000000        10000.000000  \n",
       "mean     4712.134300    5055.019400            0.219500  \n",
       "std     14080.847065   17359.210922            0.413929  \n",
       "min         0.000000       0.000000            0.000000  \n",
       "25%       300.000000     150.750000            0.000000  \n",
       "50%      1543.000000    1500.000000            0.000000  \n",
       "75%      4100.000000    4000.000000            0.000000  \n",
       "max    417990.000000  422000.000000            1.000000  "
      ]
     },
     "execution_count": 24,
     "metadata": {},
     "output_type": "execute_result"
    }
   ],
   "source": [
    "df.describe()"
   ]
  },
  {
   "cell_type": "markdown",
   "metadata": {},
   "source": [
    "### Обзор номинативных признаков"
   ]
  },
  {
   "cell_type": "code",
   "execution_count": 25,
   "metadata": {},
   "outputs": [
    {
     "name": "stdout",
     "output_type": "stream",
     "text": [
      "SEX\n",
      "\n",
      "2    6068\n",
      "1    3932\n",
      "Name: SEX, dtype: int64\n",
      "****************************************************************************************************\n",
      "\n",
      "EDUCATION\n",
      "\n",
      "2    4678\n",
      "1    3496\n",
      "3    1674\n",
      "5      90\n",
      "4      42\n",
      "6      18\n",
      "0       2\n",
      "Name: EDUCATION, dtype: int64\n",
      "****************************************************************************************************\n",
      "\n",
      "MARRIAGE\n",
      "\n",
      "2    5332\n",
      "1    4547\n",
      "3     108\n",
      "0      13\n",
      "Name: MARRIAGE, dtype: int64\n",
      "****************************************************************************************************\n",
      "\n",
      "PAY_1\n",
      "\n",
      "0     4895\n",
      "-1    2852\n",
      "1     1217\n",
      "2      881\n",
      "3      155\n",
      "Name: PAY_1, dtype: int64\n",
      "****************************************************************************************************\n",
      "\n",
      "PAY_2\n",
      "\n",
      "0     5178\n",
      "-1    3318\n",
      "2     1318\n",
      "3      175\n",
      "1       11\n",
      "Name: PAY_2, dtype: int64\n",
      "****************************************************************************************************\n",
      "\n",
      "PAY_3\n",
      "\n",
      "0     5200\n",
      "-1    3379\n",
      "2     1288\n",
      "3      131\n",
      "1        2\n",
      "Name: PAY_3, dtype: int64\n",
      "****************************************************************************************************\n",
      "\n",
      "PAY_4\n",
      "\n",
      "0     5459\n",
      "-1    3360\n",
      "2     1064\n",
      "3      117\n",
      "Name: PAY_4, dtype: int64\n",
      "****************************************************************************************************\n",
      "\n",
      "PAY_5\n",
      "\n",
      "0     5601\n",
      "-1    3398\n",
      "2      894\n",
      "3      107\n",
      "Name: PAY_5, dtype: int64\n",
      "****************************************************************************************************\n",
      "\n",
      "PAY_6\n",
      "\n",
      "0     5394\n",
      "-1    3585\n",
      "2      927\n",
      "3       94\n",
      "Name: PAY_6, dtype: int64\n",
      "****************************************************************************************************\n",
      "\n"
     ]
    }
   ],
   "source": [
    "for cat_colname in df.select_dtypes(include='object').columns:\n",
    "    print(str(cat_colname) + '\\n\\n' + str(df[cat_colname].value_counts()) + '\\n' + '*' * 100 + '\\n')"
   ]
  },
  {
   "cell_type": "markdown",
   "metadata": {},
   "source": [
    "## Обработка пропусков"
   ]
  },
  {
   "cell_type": "code",
   "execution_count": 26,
   "metadata": {},
   "outputs": [
    {
     "data": {
      "text/plain": [
       "LIMIT_BAL             0\n",
       "SEX                   0\n",
       "EDUCATION             0\n",
       "MARRIAGE              0\n",
       "AGE                   0\n",
       "PAY_1                 0\n",
       "PAY_2                 0\n",
       "PAY_3                 0\n",
       "PAY_4                 0\n",
       "PAY_5                 0\n",
       "PAY_6                 0\n",
       "BILL_AMT1             0\n",
       "BILL_AMT2             0\n",
       "BILL_AMT3             0\n",
       "BILL_AMT4             0\n",
       "BILL_AMT5             0\n",
       "BILL_AMT6             0\n",
       "PAY_AMT1              0\n",
       "PAY_AMT2              0\n",
       "PAY_AMT3              0\n",
       "PAY_AMT4              0\n",
       "PAY_AMT5              0\n",
       "PAY_AMT6              0\n",
       "NEXT_MONTH_DEFAULT    0\n",
       "dtype: int64"
      ]
     },
     "execution_count": 26,
     "metadata": {},
     "output_type": "execute_result"
    }
   ],
   "source": [
    "len(df) - df.count()"
   ]
  },
  {
   "cell_type": "markdown",
   "metadata": {},
   "source": [
    "## Обработка выбросов"
   ]
  },
  {
   "cell_type": "markdown",
   "metadata": {},
   "source": [
    "### EDUCATION"
   ]
  },
  {
   "cell_type": "code",
   "execution_count": 27,
   "metadata": {},
   "outputs": [],
   "source": [
    "df.loc[df['EDUCATION'] == '0', 'EDUCATION'] = df['EDUCATION'].mode()[0]"
   ]
  },
  {
   "cell_type": "markdown",
   "metadata": {},
   "source": [
    "MARRIAGE"
   ]
  },
  {
   "cell_type": "code",
   "execution_count": 28,
   "metadata": {},
   "outputs": [],
   "source": [
    "df.loc[df['MARRIAGE'] == '0', 'MARRIAGE'] = df['MARRIAGE'].mode()[0]"
   ]
  },
  {
   "cell_type": "markdown",
   "metadata": {},
   "source": [
    "## Построение новых признаков"
   ]
  },
  {
   "cell_type": "markdown",
   "metadata": {},
   "source": [
    "### Id"
   ]
  },
  {
   "cell_type": "code",
   "execution_count": 29,
   "metadata": {},
   "outputs": [],
   "source": [
    "df['ID'] = df.index.tolist()"
   ]
  },
  {
   "cell_type": "markdown",
   "metadata": {},
   "source": [
    "### Dummies"
   ]
  },
  {
   "cell_type": "code",
   "execution_count": 32,
   "metadata": {},
   "outputs": [],
   "source": [
    "df['IS_MALE'] = df['SEX'].map({'1':'1', '2':'0'}).astype(int)"
   ]
  },
  {
   "cell_type": "code",
   "execution_count": 34,
   "metadata": {},
   "outputs": [],
   "source": [
    "for cat_colname in df.select_dtypes(include='object').columns[1:]:\n",
    "    df = pd.concat([df, pd.get_dummies(df[cat_colname], prefix=cat_colname)], axis=1)"
   ]
  },
  {
   "cell_type": "markdown",
   "metadata": {},
   "source": [
    "### Сохранение обучающего датасета"
   ]
  },
  {
   "cell_type": "code",
   "execution_count": 36,
   "metadata": {},
   "outputs": [],
   "source": [
    "df.to_csv(PREP_DATASET_PATH, index=False, encoding='utf-8')"
   ]
  },
  {
   "cell_type": "code",
   "execution_count": null,
   "metadata": {},
   "outputs": [],
   "source": []
  }
 ],
 "metadata": {
  "kernelspec": {
   "display_name": "Python 3",
   "language": "python",
   "name": "python3"
  },
  "language_info": {
   "codemirror_mode": {
    "name": "ipython",
    "version": 3
   },
   "file_extension": ".py",
   "mimetype": "text/x-python",
   "name": "python",
   "nbconvert_exporter": "python",
   "pygments_lexer": "ipython3",
   "version": "3.7.6"
  }
 },
 "nbformat": 4,
 "nbformat_minor": 4
}
