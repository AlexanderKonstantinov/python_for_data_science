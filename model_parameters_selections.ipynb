{
 "cells": [
  {
   "cell_type": "code",
   "execution_count": 1,
   "metadata": {},
   "outputs": [
    {
     "name": "stdout",
     "output_type": "stream",
     "text": [
      "\tn_trees\tdepth\taccur\tr2\n"
     ]
    },
    {
     "ename": "NameError",
     "evalue": "name 'xgb' is not defined",
     "output_type": "error",
     "traceback": [
      "\u001b[1;31m---------------------------------------------------------------------------\u001b[0m",
      "\u001b[1;31mNameError\u001b[0m                                 Traceback (most recent call last)",
      "\u001b[1;32m<ipython-input-1-90c62d71bf91>\u001b[0m in \u001b[0;36m<module>\u001b[1;34m\u001b[0m\n\u001b[0;32m     11\u001b[0m     \u001b[1;32mfor\u001b[0m \u001b[0mj\u001b[0m \u001b[1;32min\u001b[0m \u001b[0mmax_depth\u001b[0m\u001b[1;33m:\u001b[0m\u001b[1;33m\u001b[0m\u001b[1;33m\u001b[0m\u001b[0m\n\u001b[0;32m     12\u001b[0m \u001b[1;33m\u001b[0m\u001b[0m\n\u001b[1;32m---> 13\u001b[1;33m         \u001b[0mrf\u001b[0m \u001b[1;33m=\u001b[0m \u001b[0mxgb\u001b[0m\u001b[1;33m.\u001b[0m\u001b[0mXGBRegressor\u001b[0m\u001b[1;33m(\u001b[0m\u001b[0mn_estimators\u001b[0m\u001b[1;33m=\u001b[0m\u001b[0mi\u001b[0m\u001b[1;33m,\u001b[0m \u001b[0mmax_depth\u001b[0m\u001b[1;33m=\u001b[0m\u001b[0mj\u001b[0m\u001b[1;33m,\u001b[0m \u001b[0mrandom_state\u001b[0m \u001b[1;33m=\u001b[0m \u001b[1;36m21\u001b[0m\u001b[1;33m)\u001b[0m\u001b[1;33m\u001b[0m\u001b[1;33m\u001b[0m\u001b[0m\n\u001b[0m\u001b[0;32m     14\u001b[0m \u001b[1;33m\u001b[0m\u001b[0m\n\u001b[0;32m     15\u001b[0m         \u001b[0mrf\u001b[0m\u001b[1;33m.\u001b[0m\u001b[0mfit\u001b[0m\u001b[1;33m(\u001b[0m\u001b[0mx_train_1\u001b[0m\u001b[1;33m,\u001b[0m \u001b[0my_train_1\u001b[0m\u001b[1;33m)\u001b[0m\u001b[1;33m;\u001b[0m\u001b[1;33m\u001b[0m\u001b[1;33m\u001b[0m\u001b[0m\n",
      "\u001b[1;31mNameError\u001b[0m: name 'xgb' is not defined"
     ]
    }
   ],
   "source": [
    "# For пкфвшуте boosting regressor\n",
    "\n",
    "# Число деревьев в ансамбле\n",
    "n_trees = [5, 10, 15]\n",
    "\n",
    "# Максимальная глубина деревьев\n",
    "max_depth = [2, 3, 5, 10]\n",
    "\n",
    "print(f'\\tn_trees\\tdepth\\taccur\\tr2')\n",
    "for i in n_trees:\n",
    "    for j in max_depth:\n",
    "        \n",
    "        regressor = xgb.XGBRegressor(n_estimators=i, max_depth=j, random_state = 21)\n",
    "\n",
    "        regressor.fit(x_train_1, y_train_1);\n",
    "        \n",
    "        accuracy = lambda pred, values: 100 - np.mean(100 * (abs(pred - values) / values))\n",
    "        r2 = lambda pred, values: np.corrcoef(values, pred)[0, 1]\n",
    "        \n",
    "        train_pred = regressor.predict(x_train_1)\n",
    "        accuracy_train = accuracy(train_pred, y_train_1)\n",
    "        r2_train = r2(train_pred, y_train_1)\n",
    "        \n",
    "        valid_pred = regressor.predict(x_valid_1)\n",
    "        accuracy_valid = accuracy(valid_pred, y_valid_1)\n",
    "        r2_valid = r2(valid_pred, y_valid_1)\n",
    "        \n",
    "        print(f'train\\t{i}\\t{j}\\t{round(accuracy_train, 2)}\\t{round(r2_train, 2)}')\n",
    "        print(f'valid\\t{i}\\t{j}\\t{round(accuracy_valid, 2)}\\t{round(r2_valid, 2)}')\n",
    "        print()     "
   ]
  },
  {
   "cell_type": "code",
   "execution_count": null,
   "metadata": {},
   "outputs": [],
   "source": [
    "# For random forest regressor\n",
    "\n",
    "# Число деревьев в ансамбле\n",
    "n_trees = [25, 50, 100]\n",
    "\n",
    "# Максимальная глубина деревьев\n",
    "max_depth = [5, 10, 15]\n",
    "\n",
    "print(f'\\tn_trees\\tdepth\\taccur\\tr2')\n",
    "for i in n_trees:\n",
    "    for j in max_depth:\n",
    "        \n",
    "        rf = RandomForestRegressor(n_estimators=i, max_depth=j, random_state = 21)\n",
    "\n",
    "        rf.fit(x_train_1, y_train_1);\n",
    "        \n",
    "        accuracy = lambda pred, values: 100 - np.mean(100 * (abs(pred - values) / values))\n",
    "        r2 = lambda pred, values: np.corrcoef(values, pred)[0, 1]\n",
    "        \n",
    "        train_pred = rf.predict(x_train_1)\n",
    "        accuracy_train = accuracy(train_pred, y_train_1)\n",
    "        r2_train = r2(train_pred, y_train_1)\n",
    "        \n",
    "        valid_pred = rf.predict(x_valid_1)\n",
    "        accuracy_valid = accuracy(valid_pred, y_valid_1)\n",
    "        r2_valid = r2(valid_pred, y_valid_1)\n",
    "        \n",
    "        print(f'train\\t{i}\\t{j}\\t{round(accuracy_train, 2)}\\t{round(r2_train, 2)}')\n",
    "        print(f'valid\\t{i}\\t{j}\\t{round(accuracy_valid, 2)}\\t{round(r2_valid, 2)}')\n",
    "        print()     "
   ]
  }
 ],
 "metadata": {
  "kernelspec": {
   "display_name": "Python 3",
   "language": "python",
   "name": "python3"
  },
  "language_info": {
   "codemirror_mode": {
    "name": "ipython",
    "version": 3
   },
   "file_extension": ".py",
   "mimetype": "text/x-python",
   "name": "python",
   "nbconvert_exporter": "python",
   "pygments_lexer": "ipython3",
   "version": "3.7.6"
  }
 },
 "nbformat": 4,
 "nbformat_minor": 4
}
